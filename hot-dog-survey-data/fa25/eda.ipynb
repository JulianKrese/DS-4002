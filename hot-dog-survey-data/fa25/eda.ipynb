{
 "cells": [
  {
   "cell_type": "markdown",
   "id": "ca066f48",
   "metadata": {},
   "source": [
    "### Dependency Installs\n",
    "- pandas --> for building data frames and summarizing data\n",
    "- openpyxl --> for reading the original .xlsx file (used through pandas)"
   ]
  },
  {
   "cell_type": "code",
   "execution_count": null,
   "id": "724727bd",
   "metadata": {},
   "outputs": [
    {
     "name": "stdout",
     "output_type": "stream",
     "text": [
      "Collecting openpyxl\n",
      "  Downloading openpyxl-3.1.5-py2.py3-none-any.whl (250 kB)\n",
      "\u001b[2K     \u001b[90m━━━━━━━━━━━━━━━━━━━━━━━━━━━━━━━━━━━━━━━\u001b[0m \u001b[32m250.9/250.9 kB\u001b[0m \u001b[31m4.8 MB/s\u001b[0m eta \u001b[36m0:00:00\u001b[0m00:01\u001b[0m\n",
      "\u001b[?25hCollecting et-xmlfile\n",
      "  Downloading et_xmlfile-2.0.0-py3-none-any.whl (18 kB)\n",
      "Installing collected packages: et-xmlfile, openpyxl\n",
      "Successfully installed et-xmlfile-2.0.0 openpyxl-3.1.5\n",
      "\n",
      "\u001b[1m[\u001b[0m\u001b[34;49mnotice\u001b[0m\u001b[1;39;49m]\u001b[0m\u001b[39;49m A new release of pip available: \u001b[0m\u001b[31;49m22.2.1\u001b[0m\u001b[39;49m -> \u001b[0m\u001b[32;49m25.2\u001b[0m\n",
      "\u001b[1m[\u001b[0m\u001b[34;49mnotice\u001b[0m\u001b[1;39;49m]\u001b[0m\u001b[39;49m To update, run: \u001b[0m\u001b[32;49mpip install --upgrade pip\u001b[0m\n"
     ]
    }
   ],
   "source": [
    "!pip install pandas\n",
    "!pip install openpyxl"
   ]
  },
  {
   "cell_type": "markdown",
   "id": "615b59ad",
   "metadata": {},
   "source": [
    "### EDA\n",
    "- Reading in the file through pandas\n",
    "- Checking the head\n",
    "- Describing the data (mean, mode, etc.)\n",
    "- Counting values to see survey results\n",
    "### Findings\n",
    "- A majority of responses were from fourth years (114/207 or %55.07)\n",
    "- 150/207 said a hotdog is NOT a sandwich (72.46%)"
   ]
  },
  {
   "cell_type": "code",
   "execution_count": null,
   "id": "ce045640",
   "metadata": {},
   "outputs": [],
   "source": [
    "import pandas as pd\n",
    "df = pd.read_excel(\"hotdog_sandwich_survey.xlsx\")\n"
   ]
  },
  {
   "cell_type": "code",
   "execution_count": 17,
   "id": "0059867f",
   "metadata": {},
   "outputs": [
    {
     "name": "stdout",
     "output_type": "stream",
     "text": [
      "<bound method NDFrame.head of                   Timestamp  What year are you in? Is hotdog a sandwich?\n",
      "0   2025-08-29 17:17:56.622                      4                   Yes\n",
      "1   2025-08-29 18:33:07.653                      3                   Yes\n",
      "2   2025-08-29 18:33:08.405                      4                   Yes\n",
      "3   2025-08-29 18:33:28.632                      3                   Yes\n",
      "4   2025-08-29 18:33:41.234                      1                    No\n",
      "..                      ...                    ...                   ...\n",
      "202 2025-09-01 12:11:24.317                      4                    No\n",
      "203 2025-09-01 12:13:56.332                      3                    No\n",
      "204 2025-09-01 12:18:07.424                      4                   Yes\n",
      "205 2025-09-01 12:18:41.254                      2                   Yes\n",
      "206 2025-09-01 12:18:42.441                      4                   Yes\n",
      "\n",
      "[207 rows x 3 columns]>\n",
      "---------------\n",
      "                           Timestamp  What year are you in?\n",
      "count                            207             207.000000\n",
      "mean   2025-08-31 15:02:49.586632960               3.280193\n",
      "min       2025-08-29 17:17:56.622000               1.000000\n",
      "25%    2025-08-31 11:01:26.133499904               3.000000\n",
      "50%    2025-08-31 15:46:27.035000064               4.000000\n",
      "75%    2025-08-31 23:08:41.319000064               4.000000\n",
      "max       2025-09-01 12:18:42.441000               4.000000\n",
      "std                              NaN               0.907757\n",
      "---------------\n",
      "What year are you in?\n",
      "4    114\n",
      "3     45\n",
      "2     40\n",
      "1      8\n",
      "Name: count, dtype: int64\n",
      "---------------\n",
      "Is hotdog a sandwich?\n",
      "No     150\n",
      "Yes     57\n",
      "Name: count, dtype: int64\n"
     ]
    }
   ],
   "source": [
    "print(df.head)\n",
    "print(\"---------------\")\n",
    "print(df.describe())\n",
    "print(\"---------------\")\n",
    "print(df[\"What year are you in?\"].value_counts())\n",
    "print(\"---------------\")\n",
    "print(df[\"Is hotdog a sandwich?\"].value_counts())"
   ]
  },
  {
   "cell_type": "markdown",
   "id": "975ad9c5",
   "metadata": {},
   "source": [
    "### Cleanup\n",
    "- Changing value names to be more clear and standard naming\n",
    "- Changing values from str (\"yes\") to T/F\n",
    "- Downloading the file as a .csv (more common formatting)"
   ]
  },
  {
   "cell_type": "code",
   "execution_count": 19,
   "id": "0d5e6051",
   "metadata": {},
   "outputs": [
    {
     "name": "stderr",
     "output_type": "stream",
     "text": [
      "/var/folders/3y/sckx0bxn0q16zs8h1kx84wk80000gn/T/ipykernel_9353/468904245.py:2: FutureWarning: Downcasting behavior in `replace` is deprecated and will be removed in a future version. To retain the old behavior, explicitly call `result.infer_objects(copy=False)`. To opt-in to the future behavior, set `pd.set_option('future.no_silent_downcasting', True)`\n",
      "  cleaned_df[\"is_hotdog_sandwich\"] = cleaned_df[\"is_hotdog_sandwich\"].replace({\"Yes\": True, \"No\": False})\n"
     ]
    }
   ],
   "source": [
    "cleaned_df = df.rename(columns={\"What year are you in?\": \"year\", \"Is hotdog a sandwich?\": \"is_hotdog_sandwich\"})\n",
    "cleaned_df[\"is_hotdog_sandwich\"] = cleaned_df[\"is_hotdog_sandwich\"].replace({\"Yes\": True, \"No\": False})\n",
    "cleaned_df.to_csv(\"is_a_hotdog_a_sandwich_survey.csv\")"
   ]
  }
 ],
 "metadata": {
  "kernelspec": {
   "display_name": ".venv",
   "language": "python",
   "name": "python3"
  },
  "language_info": {
   "codemirror_mode": {
    "name": "ipython",
    "version": 3
   },
   "file_extension": ".py",
   "mimetype": "text/x-python",
   "name": "python",
   "nbconvert_exporter": "python",
   "pygments_lexer": "ipython3",
   "version": "3.10.6"
  }
 },
 "nbformat": 4,
 "nbformat_minor": 5
}
